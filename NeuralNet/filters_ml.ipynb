{
 "cells": [
  {
   "cell_type": "code",
   "execution_count": 1,
   "metadata": {},
   "outputs": [],
   "source": [
    "import numpy as np\n",
    "import pandas as pd"
   ]
  },
  {
   "cell_type": "code",
   "execution_count": 2,
   "metadata": {},
   "outputs": [],
   "source": [
    "from matplotlib import pyplot as plt\n",
    "import csv"
   ]
  },
  {
   "cell_type": "code",
   "execution_count": 3,
   "metadata": {},
   "outputs": [],
   "source": [
    "data = pd.read_csv(\"../dummy_evaluation/data/devnagri_train.csv\")\n"
   ]
  },
  {
   "cell_type": "code",
   "execution_count": 4,
   "metadata": {},
   "outputs": [],
   "source": [
    "data = data.values\n"
   ]
  },
  {
   "cell_type": "code",
   "execution_count": 5,
   "metadata": {},
   "outputs": [
    {
     "data": {
      "text/plain": [
       "array([40,  0,  0, ...,  0,  0,  0])"
      ]
     },
     "execution_count": 5,
     "metadata": {},
     "output_type": "execute_result"
    }
   ],
   "source": [
    "data[0]"
   ]
  },
  {
   "cell_type": "code",
   "execution_count": 6,
   "metadata": {},
   "outputs": [],
   "source": [
    "l = []\n",
    "for x in data:\n",
    "    n = np.ndarray((32,32), np.uint8)\n",
    "    for i in range(32):\n",
    "        for j in range(32):\n",
    "            n[i, j] = x[i*32+j+1]\n",
    "    l.append(n)"
   ]
  },
  {
   "cell_type": "code",
   "execution_count": 7,
   "metadata": {},
   "outputs": [
    {
     "data": {
      "text/plain": [
       "array([[0, 0, 0, ..., 0, 0, 0],\n",
       "       [0, 0, 0, ..., 0, 0, 0],\n",
       "       [0, 0, 0, ..., 0, 0, 0],\n",
       "       ...,\n",
       "       [0, 0, 0, ..., 0, 0, 0],\n",
       "       [0, 0, 0, ..., 0, 0, 0],\n",
       "       [0, 0, 0, ..., 0, 0, 0]], dtype=uint8)"
      ]
     },
     "execution_count": 7,
     "metadata": {},
     "output_type": "execute_result"
    }
   ],
   "source": [
    "l[0]"
   ]
  },
  {
   "cell_type": "code",
   "execution_count": 8,
   "metadata": {},
   "outputs": [],
   "source": [
    "from skimage.filters import gabor\n",
    "from skimage import data, io"
   ]
  },
  {
   "cell_type": "code",
   "execution_count": 9,
   "metadata": {},
   "outputs": [],
   "source": [
    "filt_real, filt_imag = gabor(l[0], frequency=0.9)"
   ]
  },
  {
   "cell_type": "code",
   "execution_count": 10,
   "metadata": {},
   "outputs": [
    {
     "data": {
      "image/png": "[encoded data removed]",
      "text/plain": [
       "<Figure size 432x288 with 1 Axes>"
      ]
     },
     "metadata": {},
     "output_type": "display_data"
    }
   ],
   "source": [
    "plt.figure()\n",
    "io.imshow(filt_real)\n",
    "io.show()"
   ]
  },
  {
   "cell_type": "code",
   "execution_count": 11,
   "metadata": {},
   "outputs": [
    {
     "data": {
      "image/png": "[encoded data removed]",
      "text/plain": [
       "<Figure size 432x288 with 1 Axes>"
      ]
     },
     "metadata": {},
     "output_type": "display_data"
    }
   ],
   "source": [
    "plt.figure()\n",
    "io.imshow(l[0])\n",
    "io.show()"
   ]
  },
  {
   "cell_type": "code",
   "execution_count": 12,
   "metadata": {},
   "outputs": [],
   "source": [
    "from skimage.feature import hog\n",
    "from skimage import data, exposure\n"
   ]
  },
  {
   "cell_type": "code",
   "execution_count": 13,
   "metadata": {},
   "outputs": [
    {
     "name": "stderr",
     "output_type": "stream",
     "text": [
      "/usr/local/lib/python3.6/dist-packages/skimage/feature/_hog.py:150: skimage_deprecation: Default value of `block_norm`==`L1` is deprecated and will be changed to `L2-Hys` in v0.15. To supress this message specify explicitly the normalization method.\n",
      "  skimage_deprecation)\n"
     ]
    },
    {
     "data": {
      "image/png": "[encoded data removed]",
      "text/plain": [
       "<Figure size 432x288 with 1 Axes>"
      ]
     },
     "metadata": {},
     "output_type": "display_data"
    }
   ],
   "source": [
    "fd, hog_image = hog(l[0], orientations=8, pixels_per_cell=(2, 2), cells_per_block=(1, 1), visualize=True, multichannel=False)\n",
    "hog_image_rescaled = exposure.rescale_intensity(hog_image, in_range=(0, 300))\n",
    "\n",
    "plt.figure()\n",
    "io.imshow(hog_image_rescaled)\n",
    "io.show()"
   ]
  },
  {
   "cell_type": "code",
   "execution_count": 14,
   "metadata": {},
   "outputs": [],
   "source": [
    "\n",
    "from skimage.restoration import (denoise_wavelet, estimate_sigma)\n",
    "from skimage.util import random_noise\n",
    "\n",
    "sigma = 0.12"
   ]
  },
  {
   "cell_type": "code",
   "execution_count": 15,
   "metadata": {},
   "outputs": [
    {
     "data": {
      "image/png": "[encoded data removed]",
      "text/plain": [
       "<Figure size 432x288 with 1 Axes>"
      ]
     },
     "metadata": {},
     "output_type": "display_data"
    }
   ],
   "source": [
    "noisy = random_noise(l[0], var=sigma**2)\n",
    "plt.figure()\n",
    "io.imshow(noisy)\n",
    "io.show()"
   ]
  },
  {
   "cell_type": "code",
   "execution_count": 16,
   "metadata": {},
   "outputs": [],
   "source": [
    "sigma_est = estimate_sigma(noisy, multichannel=True, average_sigmas=True)"
   ]
  },
  {
   "cell_type": "code",
   "execution_count": 17,
   "metadata": {},
   "outputs": [
    {
     "data": {
      "text/plain": [
       "0.1015071553837329"
      ]
     },
     "execution_count": 17,
     "metadata": {},
     "output_type": "execute_result"
    }
   ],
   "source": [
    "sigma_est"
   ]
  },
  {
   "cell_type": "code",
   "execution_count": 18,
   "metadata": {},
   "outputs": [],
   "source": [
    "im_bayes = denoise_wavelet(noisy, multichannel=False, convert2ycbcr=True,\n",
    "                           method='BayesShrink', mode='soft')\n",
    "im_visushrink = denoise_wavelet(noisy, multichannel=False, convert2ycbcr=True,\n",
    "                                method='VisuShrink', mode='soft',\n",
    "                                sigma=sigma_est)\n",
    "im_visushrink2 = denoise_wavelet(noisy, multichannel=False, convert2ycbcr=True,\n",
    "                                 method='VisuShrink', mode='soft',\n",
    "                                 sigma=sigma_est/2)\n",
    "im_visushrink4 = denoise_wavelet(noisy, multichannel=False, convert2ycbcr=True,\n",
    "                                 method='VisuShrink', mode='soft',\n",
    "                                 sigma=sigma_est/4)\n"
   ]
  },
  {
   "cell_type": "code",
   "execution_count": 19,
   "metadata": {},
   "outputs": [
    {
     "data": {
      "image/png": "[encoded data removed]",
      "text/plain": [
       "<Figure size 432x288 with 1 Axes>"
      ]
     },
     "metadata": {},
     "output_type": "display_data"
    }
   ],
   "source": [
    "plt.figure()\n",
    "io.imshow(im_bayes)\n",
    "io.show()"
   ]
  },
  {
   "cell_type": "code",
   "execution_count": 20,
   "metadata": {},
   "outputs": [
    {
     "data": {
      "image/png": "[encoded data removed]",
      "text/plain": [
       "<Figure size 432x288 with 1 Axes>"
      ]
     },
     "metadata": {},
     "output_type": "display_data"
    }
   ],
   "source": [
    "plt.figure()\n",
    "io.imshow(l[0])\n",
    "io.show()"
   ]
  },
  {
   "cell_type": "code",
   "execution_count": 21,
   "metadata": {},
   "outputs": [],
   "source": [
    "noisy = l[0]\n",
    "im_bayes = denoise_wavelet(noisy, multichannel=False, convert2ycbcr=True,\n",
    "                           method='BayesShrink', mode='soft')\n",
    "im_visushrink = denoise_wavelet(noisy, multichannel=False, convert2ycbcr=True,\n",
    "                                method='VisuShrink', mode='soft',\n",
    "                                sigma=sigma_est)\n",
    "im_visushrink2 = denoise_wavelet(noisy, multichannel=False, convert2ycbcr=True,\n",
    "                                 method='VisuShrink', mode='soft',\n",
    "                                 sigma=sigma_est/2)\n",
    "im_visushrink4 = denoise_wavelet(noisy, multichannel=False, convert2ycbcr=True,\n",
    "                                 method='VisuShrink', mode='soft',\n",
    "                                 sigma=sigma_est/4)\n"
   ]
  },
  {
   "cell_type": "code",
   "execution_count": 22,
   "metadata": {},
   "outputs": [
    {
     "data": {
      "image/png": "[encoded data removed]",
      "text/plain": [
       "<Figure size 432x288 with 1 Axes>"
      ]
     },
     "metadata": {},
     "output_type": "display_data"
    }
   ],
   "source": [
    "plt.figure()\n",
    "io.imshow(im_bayes)\n",
    "io.show()\n"
   ]
  },
  {
   "cell_type": "code",
   "execution_count": 23,
   "metadata": {},
   "outputs": [
    {
     "data": {
      "image/png": "[encoded data removed]",
      "text/plain": [
       "<Figure size 432x288 with 1 Axes>"
      ]
     },
     "metadata": {},
     "output_type": "display_data"
    }
   ],
   "source": [
    "plt.figure()\n",
    "io.imshow(im_visushrink)\n",
    "io.show()"
   ]
  },
  {
   "cell_type": "code",
   "execution_count": 24,
   "metadata": {},
   "outputs": [
    {
     "data": {
      "image/png": "[encoded data removed]",
      "text/plain": [
       "<Figure size 432x288 with 1 Axes>"
      ]
     },
     "metadata": {},
     "output_type": "display_data"
    }
   ],
   "source": [
    "plt.figure()\n",
    "io.imshow(im_visushrink2)\n",
    "io.show()"
   ]
  },
  {
   "cell_type": "code",
   "execution_count": 25,
   "metadata": {},
   "outputs": [
    {
     "data": {
      "image/png": "[encoded data removed]",
      "text/plain": [
       "<Figure size 432x288 with 1 Axes>"
      ]
     },
     "metadata": {},
     "output_type": "display_data"
    }
   ],
   "source": [
    "plt.figure()\n",
    "io.imshow(im_visushrink4)\n",
    "io.show()"
   ]
  },
  {
   "cell_type": "code",
   "execution_count": 26,
   "metadata": {},
   "outputs": [
    {
     "data": {
      "text/plain": [
       "array([[ 69351.            +0.j        , -13195.65876203-20355.44732263j,\n",
       "         -8744.83187831 -5283.21294597j, ...,\n",
       "         -9580.30075941 -4850.64538072j,  -8744.83187831 +5283.21294597j,\n",
       "        -13195.65876203+20355.44732263j],\n",
       "       [-16812.90479687 +5946.74138672j,  13563.48922768-27777.0906684j ,\n",
       "         -7736.97721126 +9552.38421994j, ...,\n",
       "          8676.27549353 +2463.9743093j ,   8475.46116919 +3997.25284175j,\n",
       "         -2072.97031534-18641.39117835j],\n",
       "       [ -5147.32063843 +5061.8994186j , -11402.68518606 +7427.9826277j ,\n",
       "           664.47880012 -5184.27530468j, ...,\n",
       "          2798.67210372 -3004.74140828j,  -5296.57695581 -4007.58883269j,\n",
       "          1697.67048042 +3605.59814472j],\n",
       "       ...,\n",
       "       [-10389.80810192 +2218.71195699j,   3785.21085484+12759.86175345j,\n",
       "         13624.15530423 -2130.65803762j, ...,\n",
       "          4878.15189473 +7717.48467544j,  -5891.45885481-14562.837511j  ,\n",
       "          6559.04266974 -7944.6365039j ],\n",
       "       [ -5147.32063843 -5061.8994186j ,   1697.67048042 -3605.59814472j,\n",
       "         -5296.57695581 +4007.58883269j, ...,\n",
       "          9770.66524673 +2723.41791783j,    664.47880012 +5184.27530468j,\n",
       "        -11402.68518606 -7427.9826277j ],\n",
       "       [-16812.90479687 -5946.74138672j,  -2072.97031534+18641.39117835j,\n",
       "          8475.46116919 -3997.25284175j, ...,\n",
       "         -9648.77437529 -6029.00968458j,  -7736.97721126 -9552.38421994j,\n",
       "         13563.48922768+27777.0906684j ]])"
      ]
     },
     "execution_count": 26,
     "metadata": {},
     "output_type": "execute_result"
    }
   ],
   "source": [
    "np.fft.fft2(noisy, s=None, axes=(-2, -1), norm=None)"
   ]
  },
  {
   "cell_type": "code",
   "execution_count": 27,
   "metadata": {},
   "outputs": [],
   "source": [
    "from scipy.fftpack import dct"
   ]
  },
  {
   "cell_type": "code",
   "execution_count": 28,
   "metadata": {},
   "outputs": [],
   "source": [
    "y = dct(noisy)"
   ]
  },
  {
   "cell_type": "code",
   "execution_count": 29,
   "metadata": {},
   "outputs": [
    {
     "data": {
      "text/plain": [
       "array([[ 0.00000000e+00,  0.00000000e+00,  0.00000000e+00, ...,\n",
       "         0.00000000e+00,  0.00000000e+00,  0.00000000e+00],\n",
       "       [ 0.00000000e+00,  0.00000000e+00,  0.00000000e+00, ...,\n",
       "         0.00000000e+00,  0.00000000e+00,  0.00000000e+00],\n",
       "       [ 9.02000000e+02,  6.17544580e+02, -4.05759806e+01, ...,\n",
       "         3.99409264e+00, -1.87566820e+00, -3.13002197e+00],\n",
       "       ...,\n",
       "       [ 5.20200000e+03,  2.11476039e+03, -2.76228326e+03, ...,\n",
       "         3.74249861e+01, -2.12521201e+01, -5.25423183e+01],\n",
       "       [ 0.00000000e+00,  0.00000000e+00,  0.00000000e+00, ...,\n",
       "         0.00000000e+00,  0.00000000e+00,  0.00000000e+00],\n",
       "       [ 0.00000000e+00,  0.00000000e+00,  0.00000000e+00, ...,\n",
       "         0.00000000e+00,  0.00000000e+00,  0.00000000e+00]])"
      ]
     },
     "execution_count": 29,
     "metadata": {},
     "output_type": "execute_result"
    }
   ],
   "source": [
    "y"
   ]
  },
  {
   "cell_type": "code",
   "execution_count": null,
   "metadata": {},
   "outputs": [],
   "source": []
  }
 ],
 "metadata": {
  "kernelspec": {
   "display_name": "Python 3",
   "language": "python",
   "name": "python3"
  },
  "language_info": {
   "codemirror_mode": {
    "name": "ipython",
    "version": 3
   },
   "file_extension": ".py",
   "mimetype": "text/x-python",
   "name": "python",
   "nbconvert_exporter": "python",
   "pygments_lexer": "ipython3",
   "version": "3.6.5"
  }
 },
 "nbformat": 4,
 "nbformat_minor": 2
}
